{
 "cells": [
  {
   "cell_type": "code",
   "execution_count": 1,
   "metadata": {},
   "outputs": [],
   "source": [
    "from bs4 import *\n",
    "import requests as rq\n",
    "import os\n",
    "\n",
    "links = []\n",
    "\n",
    "req = rq.get('https://www.google.com/search?q=xilogravura&rlz=1C1GCEB_enBR893BR893&source=lnms&tbm=isch&sa=X&ved=2ahUKEwitwqOJrNTxAhUgI7kGHZKrC-AQ_AUoAXoECAEQAw&biw=1366&bih=568')"
   ]
  },
  {
   "cell_type": "code",
   "execution_count": 2,
   "metadata": {},
   "outputs": [],
   "source": [
    "soup = BeautifulSoup(req.text, 'html.parser')"
   ]
  },
  {
   "cell_type": "code",
   "execution_count": 3,
   "metadata": {},
   "outputs": [],
   "source": [
    "imgTags = soup.select('img[src^=\"https://encrypted\"]')\n"
   ]
  },
  {
   "cell_type": "code",
   "execution_count": 4,
   "metadata": {},
   "outputs": [],
   "source": [
    "for img in imgTags:\n",
    "    links.append(img['src'])"
   ]
  },
  {
   "cell_type": "code",
   "execution_count": 5,
   "metadata": {},
   "outputs": [],
   "source": [
    "#os.mkdir('photos')"
   ]
  },
  {
   "cell_type": "code",
   "execution_count": 10,
   "metadata": {},
   "outputs": [],
   "source": [
    "import urllib.request\n",
    "\n",
    "opener = urllib.request.URLopener()\n",
    "opener.addheader('User-Agent', 'whatever')\n",
    "\n",
    "i = 1\n",
    "for index, img_link in enumerate(links):\n",
    "  #  if i <= 10:\n",
    "        filename, headers = opener.retrieve(img_link, \"photos/\"+ str(index)+ \".jpg\")\n",
    "        \n",
    "        i = i + 1\n",
    " #   else:\n",
    "#        break\n",
    "    \n"
   ]
  },
  {
   "cell_type": "code",
   "execution_count": null,
   "metadata": {},
   "outputs": [],
   "source": []
  }
 ],
 "metadata": {
  "kernelspec": {
   "display_name": "Python 3",
   "language": "python",
   "name": "python3"
  },
  "language_info": {
   "codemirror_mode": {
    "name": "ipython",
    "version": 3
   },
   "file_extension": ".py",
   "mimetype": "text/x-python",
   "name": "python",
   "nbconvert_exporter": "python",
   "pygments_lexer": "ipython3",
   "version": "3.8.3"
  }
 },
 "nbformat": 4,
 "nbformat_minor": 4
}
